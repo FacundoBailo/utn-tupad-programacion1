{
 "cells": [
  {
   "cell_type": "code",
   "execution_count": 20,
   "id": "f8ccbfa0",
   "metadata": {},
   "outputs": [
    {
     "name": "stdout",
     "output_type": "stream",
     "text": [
      "Producto: Manzana | Precio: $1500 | Cantidad: 10\n",
      "Producto: Banana | Precio: $1200 | Cantidad: 20\n",
      "Producto: Naranja | Precio: $1000 | Cantidad: 15\n",
      "-------------------------------------------------\n",
      "Producto: Manzana | Precio: $1500 | Cantidad: 10\n"
     ]
    }
   ],
   "source": [
    "with open(\"productos.txt\", \"w\") as archivo:\n",
    "    archivo.write(\"Manzana,1500,10\\n\")\n",
    "    archivo.write(\"Banana,1200,20\\n\")\n",
    "    archivo.write(\"Naranja,1000,15\\n\")\n",
    "\n",
    "with open(\"productos.txt\", \"r\") as archivo:\n",
    "    contenido = archivo.readlines()\n",
    "    for linea in contenido:\n",
    "        partes = linea.strip().split(\",\")\n",
    "        print(f\"Producto: {partes[0]} | Precio: ${partes[1]} | Cantidad: {partes[2]}\")\n",
    "\n",
    "agregar_producto = input(\"Ingresa un nuevo producto (formato: Nombre,Precio,Cantidad): \")\n",
    "with open(\"productos.txt\", \"a\") as archivo:\n",
    "    archivo.write(agregar_producto + \"\\n\")\n",
    "\n",
    "print(\"-------------------------------------------------\")\n",
    "\n",
    "productos = []\n",
    "\n",
    "with open(\"productos.txt\", \"r\") as archivo:\n",
    "    contenido = archivo.readlines()\n",
    "    for linea in contenido:\n",
    "        partes = linea.strip().split(\",\")\n",
    "        producto = {\n",
    "            \"nombre\": partes[0],\n",
    "            \"precio\": int(partes[1]),\n",
    "            \"cantidad\": int(partes[2])\n",
    "        }\n",
    "        productos.append(producto)\n",
    "\n",
    "buscar = input(\"Ingresá el nombre del producto a buscar: \").lower()\n",
    "existe = False\n",
    "\n",
    "for p in productos:\n",
    "    if p[\"nombre\"].lower() == buscar:\n",
    "        print(f\"Producto: {p['nombre']} | Precio: ${p['precio']} | Cantidad: {p['cantidad']}\")\n",
    "        existe = True\n",
    "        break\n",
    "\n",
    "if not existe:\n",
    "    print(\"Producto no encontrado.\")\n",
    "\n",
    "with open(\"productos.txt\", \"w\") as archivo:\n",
    "    for p in productos:\n",
    "        archivo.write(f\"{p['nombre']},{p['precio']},{p['cantidad']}\\n\")\n",
    "\n",
    "\n",
    "\n",
    "\n",
    "\n",
    "\n"
   ]
  }
 ],
 "metadata": {
  "kernelspec": {
   "display_name": "Python 3",
   "language": "python",
   "name": "python3"
  },
  "language_info": {
   "codemirror_mode": {
    "name": "ipython",
    "version": 3
   },
   "file_extension": ".py",
   "mimetype": "text/x-python",
   "name": "python",
   "nbconvert_exporter": "python",
   "pygments_lexer": "ipython3",
   "version": "3.13.5"
  }
 },
 "nbformat": 4,
 "nbformat_minor": 5
}
