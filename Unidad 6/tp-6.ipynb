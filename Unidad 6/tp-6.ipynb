{
 "cells": [
  {
   "cell_type": "code",
   "execution_count": null,
   "id": "ec4869bc",
   "metadata": {},
   "outputs": [],
   "source": [
    "#Ejercicio 1\n",
    "\n",
    "def imprimir_hola_mundo(mensaje):\n",
    "    print(mensaje)\n",
    "\n",
    "imprimir_hola_mundo(\"Hola Mundo\")"
   ]
  },
  {
   "cell_type": "code",
   "execution_count": null,
   "id": "606180b6",
   "metadata": {},
   "outputs": [],
   "source": [
    "#Ejercicio 2\n",
    "\n",
    "def saludar_usuario(nombre):\n",
    "    saludo = print(f\"Hola, {nombre}!\")\n",
    "    return saludo\n",
    "\n",
    "usuario = input(\"Ingrese su nombre: \")\n",
    "saludar_usuario(usuario)"
   ]
  },
  {
   "cell_type": "code",
   "execution_count": null,
   "id": "3f49f499",
   "metadata": {},
   "outputs": [],
   "source": [
    "#Ejrcicio 3\n",
    "\n",
    "def informacion_personal(nombre, apellido,edad, residencia):\n",
    "    info = print(f\"Soy {nombre} {apellido}, tengo {edad} años y vivo en {residencia}.\")\n",
    "    return info\n",
    "\n",
    "nombre = input(\"Ingrese su nombre: \")\n",
    "apellido = input(\"Ingrese su apellido: \")\n",
    "edad = input(\"Ingrese su edad: \")\n",
    "residencia = input(\"Ingrese su lugar de residencia: \")\n",
    "\n",
    "informacion_personal(nombre, apellido, edad, residencia)"
   ]
  },
  {
   "cell_type": "code",
   "execution_count": null,
   "id": "6216817e",
   "metadata": {},
   "outputs": [],
   "source": []
  },
  {
   "cell_type": "code",
   "execution_count": null,
   "id": "b6d5bab6",
   "metadata": {},
   "outputs": [],
   "source": [
    "#Ejercicio 4\n",
    "import math\n",
    "\n",
    "def calcular_area_circulo(radio):\n",
    "\n",
    "    area = math.pi * radio ** 2\n",
    "    return area\n",
    "\n",
    "def calcular_perimetro_circulo(radio):\n",
    "    \n",
    "    perimetro = 2 * math.pi * radio\n",
    "    return perimetro\n",
    "\n",
    "radio = float(input(\"Ingrese el radio del círculo: \"))\n",
    "area = calcular_area_circulo(radio)\n",
    "perimetro = calcular_perimetro_circulo(radio)\n",
    "\n",
    "print(f\"El área del círculo es: {area}\")\n",
    "print(f\"El perímetro del círculo es: {perimetro}\")"
   ]
  },
  {
   "cell_type": "code",
   "execution_count": null,
   "id": "cd12f452",
   "metadata": {},
   "outputs": [],
   "source": [
    "#ejercicio 5\n",
    "\n",
    "def segundos_a_horas(segundos):\n",
    "    horas = segundos / 3600\n",
    "    return horas\n",
    "\n",
    "tiempo_segundos = int(input(\"Ingrese el tiempo en segundos: \"))\n",
    "tiempo_horas = segundos_a_horas(tiempo_segundos)\n",
    "print(f\"El tiempo en horas es: {tiempo_horas}\") "
   ]
  },
  {
   "cell_type": "code",
   "execution_count": null,
   "id": "e4bcd5c4",
   "metadata": {},
   "outputs": [],
   "source": [
    "#Ejercicio 6\n",
    "\n",
    "def tabla_multiplicar(numero):\n",
    "    for i in range(1, 11):\n",
    "        resultado = numero * i\n",
    "        print(f\"{numero} x {i} = {resultado}\")\n",
    "num = int(input(\"Ingrese un número para ver su tabla de multiplicar: \"))\n",
    "tabla_multiplicar(num)\n"
   ]
  },
  {
   "cell_type": "code",
   "execution_count": null,
   "id": "847e97c0",
   "metadata": {},
   "outputs": [],
   "source": [
    "#Ejercicio 7\n",
    "\n",
    "def operaciones_basicas(a, b):\n",
    "    suma = a + b\n",
    "    resta = a - b\n",
    "    multiplicacion = a * b\n",
    "    division = a / b if b != 0 else \"Indefinida (división por cero)\"\n",
    "    return suma, resta, multiplicacion, division    \n",
    "\n",
    "num1 = float(input(\"Ingrese el primer número: \"))\n",
    "num2 = float(input(\"Ingrese el segundo número: \"))\n",
    "suma, resta, multiplicacion, division = operaciones_basicas(num1, num2)\n",
    "resultado = (suma, resta, multiplicacion, division)\n",
    "\n",
    "print(resultado)\n"
   ]
  },
  {
   "cell_type": "code",
   "execution_count": null,
   "id": "e669e6d9",
   "metadata": {},
   "outputs": [],
   "source": [
    "#Ejercicio 8\n",
    "\n",
    "def calcular_imc(peso, altura):\n",
    "    imc = peso / (altura ** 2)\n",
    "    return round(imc, 2)\n",
    "\n",
    "peso = float(input(\"Ingrese su peso en kilogramos: \"))\n",
    "altura = float(input(\"Ingrese su altura en metros: \"))\n",
    "imc = calcular_imc(peso, altura)\n",
    "\n",
    "print(f\"Su IMC es: {imc}\")\n"
   ]
  },
  {
   "cell_type": "code",
   "execution_count": null,
   "id": "06f3af9e",
   "metadata": {},
   "outputs": [],
   "source": [
    "#Ejercicio 9\n",
    "\n",
    "def celsius_a_fahrenheit(celsius):\n",
    "    fahrenheit = (celsius * 9/5) + 32\n",
    "    return fahrenheit\n",
    "\n",
    "celsius = float(input(\"Ingrese la temperatura en grados Celsius: \"))\n",
    "fahrenheit = celsius_a_fahrenheit(celsius)\n",
    "\n",
    "print(f\"La temperatura en grados Fahrenheit es: {fahrenheit}\")\n"
   ]
  },
  {
   "cell_type": "code",
   "execution_count": null,
   "id": "4307a355",
   "metadata": {},
   "outputs": [],
   "source": [
    "#Ejercicio 10\n",
    "\n",
    "def calcular_promedio(a, b, c):\n",
    "    promedio = (a + b + c) / 3\n",
    "    return round(promedio, 2)\n",
    "\n",
    "a = float(input(\"Ingrese el primer número: \"))\n",
    "b = float(input(\"Ingrese el segundo número: \"))\n",
    "c = float(input(\"Ingrese el tercer número: \"))\n",
    "promedio = calcular_promedio(a, b, c)\n",
    "\n",
    "print(f\"El promedio es: {promedio}\")\n"
   ]
  }
 ],
 "metadata": {
  "kernelspec": {
   "display_name": "Python 3",
   "language": "python",
   "name": "python3"
  },
  "language_info": {
   "codemirror_mode": {
    "name": "ipython",
    "version": 3
   },
   "file_extension": ".py",
   "mimetype": "text/x-python",
   "name": "python",
   "nbconvert_exporter": "python",
   "pygments_lexer": "ipython3",
   "version": "3.13.5"
  }
 },
 "nbformat": 4,
 "nbformat_minor": 5
}
